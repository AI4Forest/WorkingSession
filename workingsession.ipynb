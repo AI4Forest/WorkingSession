{
 "cells": [
  {
   "cell_type": "markdown",
   "metadata": {},
   "source": [
    "# Copilot and ChatGPT - Working Session "
   ]
  },
  {
   "cell_type": "code",
   "execution_count": 1,
   "metadata": {},
   "outputs": [],
   "source": [
    "import rasterio as rio\n",
    "\n",
    "hansen = rio.open('data/hansen.tif') #You might want to change the directory here\n",
    "hansen_crs = hansen.crs\n",
    "hansen_transform = hansen.transform\n",
    "hansen_array = hansen.read(1) "
   ]
  },
  {
   "cell_type": "markdown",
   "metadata": {},
   "source": [
    "## 1. Raster to GeoDataFrame with GPT\n",
    "\n",
    "You have one dataset : \n",
    "- TreeCoverLoss by Hansen over les Landes (Numpy.array) -> data/hansen.tif \n",
    "\n",
    "Your task is to :\n",
    "Use the Rasterio library for transforming the map from Hansen into a Geopandas.GeoDataFrame\n",
    "\n",
    "hints :\n",
    "- use the function `rasterio.features.shapes` to extract the shapes from the raster. \n",
    "- use the function `shapely.geometry.shape` to transform the shapes into a shapely geometry.\n",
    "- When extracting the shapes, you can use a mask to only extract the shapes that are not null."
   ]
  },
  {
   "cell_type": "code",
   "execution_count": null,
   "metadata": {},
   "outputs": [],
   "source": [
    "#use gpt"
   ]
  },
  {
   "cell_type": "markdown",
   "metadata": {},
   "source": [
    "## 2. Raster to GeoDataFrame with Copilot\n",
    "\n",
    "You have one dataset : \n",
    "- Forest disturbances by Senf & Seidl over les Landes (Numpy.array) -> data/hansen.tif \n",
    "\n",
    "Your task is to :\n",
    "Use the Rasterio library for transforming the map from Hansen into a Geopandas.GeoDataFrame\n",
    "\n",
    "hints :\n",
    "- use the function `rasterio.features.shapes` to extract the shapes from the raster. \n",
    "- use the function `shapely.geometry.shape` to transform the shapes into a shapely geometry.\n",
    "- When extracting the shapes, you can use a mask to only extract the shapes that are not null."
   ]
  },
  {
   "cell_type": "code",
   "execution_count": null,
   "metadata": {},
   "outputs": [],
   "source": [
    "import rasterio as rio\n",
    "\n",
    "senfseidl = rio.open('data/senfseidl.tif') #You might want to change the directory here\n",
    "senfseidl_crs = hansen.crs\n",
    "senfseidl_transform = hansen.transform\n",
    "senfseidl_array = hansen.read(1) "
   ]
  },
  {
   "cell_type": "code",
   "execution_count": null,
   "metadata": {},
   "outputs": [],
   "source": [
    "#use copilot "
   ]
  },
  {
   "cell_type": "markdown",
   "metadata": {},
   "source": [
    "## 3. Get some figures. \n",
    "\n",
    "You have two datasets : \n",
    "- TreeCoverLoss by Hansen over les Landes (Numpy.array) -> GeoDataFrame 1\n",
    "- Forest disturbances by Senf & Seidl over les Landes (Geopandas.GeoDataFrame) -> GeoDataFrame 2\n",
    "\n",
    "Your task is to :\n",
    "Use the Matlplotlib library for plotting the difference between the estimated year of disturbances between the two datasets for the polygons having an intersection. \n",
    "\n",
    "hints :\n",
    "- use GeoPandas built-in function `sjoin` to get the inner intersection between the two datasets."
   ]
  },
  {
   "cell_type": "code",
   "execution_count": null,
   "metadata": {},
   "outputs": [],
   "source": []
  }
 ],
 "metadata": {
  "kernelspec": {
   "display_name": "Kayrros-default",
   "language": "python",
   "name": "python3"
  },
  "language_info": {
   "codemirror_mode": {
    "name": "ipython",
    "version": 3
   },
   "file_extension": ".py",
   "mimetype": "text/x-python",
   "name": "python",
   "nbconvert_exporter": "python",
   "pygments_lexer": "ipython3",
   "version": "3.9.6"
  },
  "orig_nbformat": 4
 },
 "nbformat": 4,
 "nbformat_minor": 2
}
